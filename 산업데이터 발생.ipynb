{
 "cells": [
  {
   "cell_type": "code",
   "execution_count": 1,
   "id": "286e3be3-832f-472b-a65b-fb0e9e7a4491",
   "metadata": {},
   "outputs": [],
   "source": [
    "# 먼저 json으로 만들기"
   ]
  },
  {
   "cell_type": "code",
   "execution_count": 22,
   "id": "ab571bfc-6c2e-4b18-9b4e-620b4cf937e0",
   "metadata": {},
   "outputs": [
    {
     "name": "stdout",
     "output_type": "stream",
     "text": [
      "2022-07-25 22:00:01.475359\n"
     ]
    }
   ],
   "source": [
    "import datetime\n",
    "print(datetime.datetime.now())"
   ]
  },
  {
   "cell_type": "code",
   "execution_count": 43,
   "id": "4fd0f6e5-aba7-4296-859a-7f7570c28a5c",
   "metadata": {},
   "outputs": [],
   "source": [
    "import json\n",
    "from collections import OrderedDict\n",
    "\n",
    "file_data = OrderedDict()"
   ]
  },
  {
   "cell_type": "code",
   "execution_count": 53,
   "id": "71eb8f33-e4cf-4a27-9773-d0e87e3d9e10",
   "metadata": {},
   "outputs": [],
   "source": [
    "with open ('datas/temp.json', 'w', encoding='utf-8') as make_file:\n",
    "    file_data[\"TITLE\"] = \"ANALYZER TAGS\"\n",
    "    \n",
    "    file_data[\"analyzers\"] = dict()\n",
    "    \n",
    "    cnt = 1\n",
    "    for i in range(1, 489):        \n",
    "        if len(str(cnt)) == 1:\n",
    "            house_tag = \"0\"+str(cnt)+\"AH\"\n",
    "        else:\n",
    "            house_tag = str(cnt)+\"AH\"\n",
    "        \n",
    "        if len(str(i)) == 1:\n",
    "            file_data[\"analyzers\"][\"house\"] =house_tag\n",
    "            file_data[\"analyzers\"][\"analyzer\"] = house_tag[:2]+\"-AT-00\"+str(i)\n",
    "            json.dump(file_data, make_file, ensure_ascii=False, indent=\"\\t\")\n",
    "        elif len(str(i)) == 2:\n",
    "            file_data[\"analyzers\"][\"house\"] =house_tag\n",
    "            file_data[\"analyzers\"][\"analyzer\"] = house_tag[:2]+\"-AT-0\"+str(i)\n",
    "            json.dump(file_data, make_file, ensure_ascii=False, indent=\"\\t\")\n",
    "        else:\n",
    "            file_data[\"analyzers\"][\"house\"] =house_tag\n",
    "            file_data[\"analyzers\"][\"analyzer\"] = house_tag[:2]+\"-AT-\"+str(i)\n",
    "            json.dump(file_data, make_file, ensure_ascii=False, indent=\"\\t\")\n",
    "        if i%10 == 0:\n",
    "            cnt += 1"
   ]
  },
  {
   "cell_type": "code",
   "execution_count": null,
   "id": "007e13c7-6384-4614-b0f5-3104651c9761",
   "metadata": {},
   "outputs": [],
   "source": [
    "'''\n",
    "위 코드로 파일 만든 후에 맨 위에\n",
    "{\n",
    "    \"FILE\":\n",
    "    [\n",
    "    \n",
    "    꼴과 맨 밑에 ]} 를 추가해 줘야 한다. \n",
    "    (각 데이터 { } 마다 콤마도 들어가 줘야 한다)\n",
    "'''"
   ]
  },
  {
   "cell_type": "code",
   "execution_count": 47,
   "id": "60e23882-74c6-48b0-8a83-fde6ca828584",
   "metadata": {},
   "outputs": [],
   "source": [
    "file_data[\"analyzers\"]= dict()\n",
    "file_data[\"analyzers\"][\"house\"] = \"01-AH\"\n",
    "file_data[\"analyzers\"][\"analyzer\"] = \"01-AT-001\""
   ]
  },
  {
   "cell_type": "code",
   "execution_count": 48,
   "id": "06baeb16-b8fd-4623-b6f6-adfeae8de729",
   "metadata": {},
   "outputs": [
    {
     "data": {
      "text/plain": [
       "OrderedDict([('TITLE', 'ANALYZER TAGS'),\n",
       "             ('analyzers', {'house': '01-AH', 'analyzer': '01-AT-001'})])"
      ]
     },
     "execution_count": 48,
     "metadata": {},
     "output_type": "execute_result"
    }
   ],
   "source": [
    "file_data"
   ]
  },
  {
   "cell_type": "code",
   "execution_count": null,
   "id": "b4baa01b-f0c9-4b19-b3a7-d4370c4ae2bc",
   "metadata": {},
   "outputs": [],
   "source": []
  },
  {
   "cell_type": "code",
   "execution_count": 71,
   "id": "48310047-030e-49da-92b6-ea4a914dc380",
   "metadata": {},
   "outputs": [],
   "source": [
    "analyzer_tags = []\n",
    "house_tags = []\n",
    "\n",
    "with open('datas/temp.json', 'r', encoding='utf-8') as read_file:\n",
    "    json_data = json.load(read_file)\n",
    "    \n",
    "    for k in range(len(json_data['FILE'])):\n",
    "        analyzer_tags.append(json_data['FILE'][k]['analyzers']['analyzer']) # analyzer 태그만 가져올 수 있다.\n",
    "        house_tags.append(json_data['FILE'][k]['analyzers']['house']) # house 태그만 가져올 수 있다."
   ]
  },
  {
   "cell_type": "code",
   "execution_count": 76,
   "id": "f1ce378b-ac97-4928-8670-434d7b2f939d",
   "metadata": {},
   "outputs": [
    {
     "name": "stdout",
     "output_type": "stream",
     "text": [
      "2022-07-25\n"
     ]
    }
   ],
   "source": [
    "print(str(datetime.datetime.now())[:10]) # 일자 까지만 나타낼 때"
   ]
  },
  {
   "cell_type": "code",
   "execution_count": 79,
   "id": "87834134-210d-493a-a687-0511412ff90a",
   "metadata": {},
   "outputs": [
    {
     "name": "stdout",
     "output_type": "stream",
     "text": [
      "2022-07-25 22:24:49\n"
     ]
    }
   ],
   "source": [
    "print(str(datetime.datetime.now())[:19]) # 초까지 나타낼 때"
   ]
  },
  {
   "cell_type": "code",
   "execution_count": 97,
   "id": "2f3f118b-68e5-4a9a-9090-a3d7de94e6cb",
   "metadata": {},
   "outputs": [],
   "source": [
    "import time\n",
    "\n",
    "status = [\"Normal\", \"Validation\", \"Maintenance\", \"Breakdown\", \"Fault\"]\n",
    "\n",
    "tmp = [0 for _ in range(len(analyzer_tags))]\n",
    "for k in range(42, 56):\n",
    "    tmp[k] = 3\n",
    "    \n",
    "for j in range(400, 412):\n",
    "    tmp[j] = 4\n",
    "\n",
    "cnt = 0\n",
    "with open(\"datas/\"+str(datetime.datetime.now())[:10]+\"-log\", \"w\", encoding='utf-8') as file:\n",
    "    while True:\n",
    "        for idx, tag in enumerate(zip(analyzer_tags, house_tags)):\n",
    "            file.write(\"[\"+str(datetime.datetime.now())[:19]+\"]\"+tag[1]+\", \"+tag[0]+\", \"+status[tmp[idx]] + \"\\n\")\n",
    "        \n",
    "        time.sleep(1)\n",
    "        cnt += 1\n",
    "        \n",
    "        if cnt == 200:\n",
    "            break"
   ]
  },
  {
   "cell_type": "code",
   "execution_count": null,
   "id": "24de588e-efd9-4f63-8e44-ea3f1416f245",
   "metadata": {},
   "outputs": [],
   "source": [
    "# 1초간의 데이터는 21KB\n",
    "# 2초간의 데이터는 42KB\n",
    "# 200초라면 42*200KB 근데 실제는 4200KB만 생김."
   ]
  },
  {
   "cell_type": "code",
   "execution_count": 98,
   "id": "375327b5-136a-489e-ac7f-51d9be6f595b",
   "metadata": {},
   "outputs": [
    {
     "data": {
      "text/plain": [
       "8400"
      ]
     },
     "execution_count": 98,
     "metadata": {},
     "output_type": "execute_result"
    }
   ],
   "source": [
    "42*200"
   ]
  },
  {
   "cell_type": "code",
   "execution_count": 92,
   "id": "5194a872-8d2c-4ef8-8f5c-f959176f2b37",
   "metadata": {},
   "outputs": [
    {
     "data": {
      "text/plain": [
       "3628800"
      ]
     },
     "execution_count": 92,
     "metadata": {},
     "output_type": "execute_result"
    }
   ],
   "source": [
    "60*60*24*42 # 하루 데이터 KB"
   ]
  },
  {
   "cell_type": "code",
   "execution_count": 94,
   "id": "d2a9582d-2d52-44e9-b3db-e17d6378d02e",
   "metadata": {},
   "outputs": [
    {
     "data": {
      "text/plain": [
       "3543.75"
      ]
     },
     "execution_count": 94,
     "metadata": {},
     "output_type": "execute_result"
    }
   ],
   "source": [
    "3628800/1024 # MB"
   ]
  },
  {
   "cell_type": "code",
   "execution_count": 95,
   "id": "4d237331-d0d6-41dc-8607-18be3617d660",
   "metadata": {},
   "outputs": [
    {
     "data": {
      "text/plain": [
       "3.460693359375"
      ]
     },
     "execution_count": 95,
     "metadata": {},
     "output_type": "execute_result"
    }
   ],
   "source": [
    "3543.75/1024 # GB # 위 방식대로 1초마다 데이터 저장시 하루에 총 3.46GB 데이터 발생"
   ]
  },
  {
   "cell_type": "code",
   "execution_count": 96,
   "id": "e4dacd14-c4d2-42dd-9f91-949c0c6ae445",
   "metadata": {},
   "outputs": [],
   "source": [
    "# 3초에 한 번씩 실행 한다면 약 1GB 크기로 줄어들게 된다."
   ]
  },
  {
   "cell_type": "code",
   "execution_count": 99,
   "id": "7df67549-52f7-4832-88b4-f800659cdbab",
   "metadata": {},
   "outputs": [
    {
     "name": "stdout",
     "output_type": "stream",
     "text": [
      "86400\n"
     ]
    }
   ],
   "source": [
    "total = 0\n",
    "\n",
    "for hour in range(24):\n",
    "    for min in range(60):\n",
    "        for sec in range(60):\n",
    "            total += 1\n",
    "print(total) # 하루는 86400초다."
   ]
  },
  {
   "cell_type": "code",
   "execution_count": null,
   "id": "e22cafa9-01b8-4ab4-9ed2-0c1809b1cbe7",
   "metadata": {},
   "outputs": [],
   "source": []
  },
  {
   "cell_type": "code",
   "execution_count": 102,
   "id": "9b8178c6-fb08-4338-a8fa-e0ad9b88e25d",
   "metadata": {},
   "outputs": [
    {
     "name": "stdout",
     "output_type": "stream",
     "text": [
      "[1]\n",
      "[1]\n",
      "[1]\n",
      "[1]\n",
      "[1]\n",
      "[1]\n",
      "[1]\n",
      "[1]\n",
      "[1]\n",
      "[1]\n",
      "[1]\n",
      "[1]\n",
      "[1]\n",
      "[1]\n",
      "[1]\n",
      "[1]\n",
      "[1]\n",
      "[1]\n",
      "[1]\n",
      "[3]\n",
      "[1]\n",
      "[1]\n",
      "[1]\n",
      "[1]\n",
      "[1]\n",
      "[5]\n",
      "[1]\n",
      "[3]\n",
      "[1]\n",
      "[1]\n",
      "[1]\n",
      "[1]\n",
      "[1]\n",
      "[1]\n",
      "[4]\n",
      "[1]\n",
      "[1]\n",
      "[1]\n",
      "[2]\n",
      "[3]\n"
     ]
    }
   ],
   "source": [
    "import random\n",
    "for i in range(40):\n",
    "    print(random.choices([1,2,3,4,5],[92,2,2,2,2])) # 이렇게 가중치를 줘서 값 뽑을 수 있다."
   ]
  },
  {
   "cell_type": "code",
   "execution_count": null,
   "id": "a8c9554c-43fa-449f-9567-a1c61b17d29a",
   "metadata": {},
   "outputs": [],
   "source": []
  },
  {
   "cell_type": "code",
   "execution_count": null,
   "id": "029966b4-3065-41f8-81c3-efb73b7d40b7",
   "metadata": {},
   "outputs": [],
   "source": []
  },
  {
   "cell_type": "code",
   "execution_count": null,
   "id": "cda8b751-2bef-4ac5-9d91-fd0d00481a34",
   "metadata": {},
   "outputs": [],
   "source": []
  },
  {
   "cell_type": "code",
   "execution_count": null,
   "id": "c27ec965-3d83-4b5c-a416-c8a125491939",
   "metadata": {},
   "outputs": [],
   "source": []
  },
  {
   "cell_type": "code",
   "execution_count": null,
   "id": "c501f25a-5552-4c60-b528-17ccff9dc57f",
   "metadata": {},
   "outputs": [],
   "source": []
  }
 ],
 "metadata": {
  "kernelspec": {
   "display_name": "Python 3 (ipykernel)",
   "language": "python",
   "name": "python3"
  },
  "language_info": {
   "codemirror_mode": {
    "name": "ipython",
    "version": 3
   },
   "file_extension": ".py",
   "mimetype": "text/x-python",
   "name": "python",
   "nbconvert_exporter": "python",
   "pygments_lexer": "ipython3",
   "version": "3.9.7"
  }
 },
 "nbformat": 4,
 "nbformat_minor": 5
}
